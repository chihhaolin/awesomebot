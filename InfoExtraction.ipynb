{
 "cells": [
  {
   "cell_type": "code",
   "execution_count": 1,
   "id": "24cfa0f5",
   "metadata": {},
   "outputs": [],
   "source": [
    "%load_ext autoreload\n",
    "%autoreload 2"
   ]
  },
  {
   "cell_type": "code",
   "execution_count": 2,
   "id": "7d3667f1",
   "metadata": {},
   "outputs": [],
   "source": [
    "from bot_factory import TaskBOT, BotAction"
   ]
  },
  {
   "cell_type": "code",
   "execution_count": 3,
   "id": "d416f58c",
   "metadata": {},
   "outputs": [],
   "source": [
    "from langchain.output_parsers import StructuredOutputParser, ResponseSchema\n",
    "import asyncio"
   ]
  },
  {
   "cell_type": "code",
   "execution_count": 4,
   "id": "935e3ce0",
   "metadata": {},
   "outputs": [],
   "source": [
    "async def async_generate(chain):\n",
    "    resp = await chain.arun(dummy=\"dummy\")\n",
    "    #print(resp)\n",
    "    return resp\n",
    "\n",
    "async def generate_concurrently(chains):\n",
    "    tasks = [async_generate(chain) for chain in chains]\n",
    "    rr = await asyncio.gather(*tasks)\n",
    "    return rr"
   ]
  },
  {
   "cell_type": "code",
   "execution_count": 5,
   "id": "de86d322",
   "metadata": {},
   "outputs": [],
   "source": [
    "attributes = [\"人名\", \"電影名\", \"公司名\", \"組織機構名稱\", \"地名\", \"活動名稱\"]\n",
    "bots = []\n",
    "sys_msg = \"你是一隻任務型機器人，負責提取使用者輸入的文字資訊。主要是提取文字中關於「{attr}」，的內容。\"\n",
    "extract_key = \"{attr}\"\n",
    "extract_description = \"把使用者對話內容，跟「{attr}」有關的提取出來\"\n",
    "_configs = [sys_msg, extract_key, extract_description]"
   ]
  },
  {
   "cell_type": "code",
   "execution_count": 6,
   "id": "4f328aeb",
   "metadata": {},
   "outputs": [
    {
     "name": "stdout",
     "output_type": "stream",
     "text": [
      "你是一隻任務型機器人，負責提取使用者輸入的文字資訊。主要是提取文字中關於「人名」，的內容。\n",
      "你是一隻任務型機器人，負責提取使用者輸入的文字資訊。主要是提取文字中關於「電影名」，的內容。\n",
      "你是一隻任務型機器人，負責提取使用者輸入的文字資訊。主要是提取文字中關於「公司名」，的內容。\n",
      "你是一隻任務型機器人，負責提取使用者輸入的文字資訊。主要是提取文字中關於「組織機構名稱」，的內容。\n",
      "你是一隻任務型機器人，負責提取使用者輸入的文字資訊。主要是提取文字中關於「地名」，的內容。\n",
      "你是一隻任務型機器人，負責提取使用者輸入的文字資訊。主要是提取文字中關於「活動名稱」，的內容。\n"
     ]
    }
   ],
   "source": [
    "## init bots\n",
    "for attr in attributes:\n",
    "    tmps = []\n",
    "    for c in _configs:\n",
    "        t = c.format(attr=attr)\n",
    "        tmps.append(t)\n",
    "    print(tmps[0])\n",
    "\n",
    "    tmpbot = TaskBOT(BotAction.INFO_EXTRACT, temperature = 0.0, \n",
    "            system_message=tmps[0],\n",
    "            Extract_key=tmps[1], Extract_description=tmps[2])\n",
    "    bots.append(tmpbot)"
   ]
  },
  {
   "cell_type": "code",
   "execution_count": 7,
   "id": "18a61b13",
   "metadata": {},
   "outputs": [],
   "source": [
    "texts = [\n",
    "    \"約翰是位知名的演員，他曾在《鐵達尼號》中飾演傑克。\",\n",
    "    \"新加坡是一個充滿活力的國家，擁有繁榮的金融中心，例如瑞聲科技和新加坡航空。\",\n",
    "    \"昨天，我在台北的國立故宮博物院參觀了一個精彩的展覽，展示了中國古代的文物。\",\n",
    "    \"我在新竹的清華大學攻讀資訊工程學位，每天都會接觸到最新的科技和研究。\",\n",
    "    \"昨晚，我和朋友在北京的烤鴨店品嚐了正宗的北京烤鴨。\",\n",
    "    \"我正在閱讀一本關於人工智慧的書籍，它由斯坦福大學的安德魯·吳所撰寫。\",\n",
    "    \"最近，我在網上購買了一台蘋果公司的新款筆記型電腦，它的性能非常強大。\",\n",
    "    \"在上海的外灘，我看到了壯麗的黃浦江夜景，真是美不勝收。\",    \n",
    "]"
   ]
  },
  {
   "cell_type": "code",
   "execution_count": 8,
   "id": "5305a1ec",
   "metadata": {},
   "outputs": [
    {
     "name": "stdout",
     "output_type": "stream",
     "text": [
      "input text: 約翰是位知名的演員，他曾在《鐵達尼號》中飾演傑克。\n",
      "{'人名': '約翰'}\n",
      "{'電影名': '鐵達尼號'}\n",
      "{'公司名': None}\n",
      "{'組織機構名稱': None}\n",
      "{'地名': None}\n",
      "{'活動名稱': None}\n",
      "\n",
      "\n",
      "input text: 新加坡是一個充滿活力的國家，擁有繁榮的金融中心，例如瑞聲科技和新加坡航空。\n",
      "{'人名': None}\n",
      "{'電影名': None}\n",
      "{'公司名': ['瑞聲科技', '新加坡航空']}\n",
      "{'組織機構名稱': ['瑞聲科技', '新加坡航空']}\n",
      "{'地名': '新加坡'}\n",
      "{'活動名稱': None}\n",
      "\n",
      "\n",
      "input text: 昨天，我在台北的國立故宮博物院參觀了一個精彩的展覽，展示了中國古代的文物。\n",
      "{'人名': '台北的國立故宮博物院'}\n",
      "{'電影名': None}\n",
      "{'公司名': None}\n",
      "{'組織機構名稱': '國立故宮博物院'}\n",
      "{'地名': '台北的國立故宮博物院'}\n",
      "{'活動名稱': '國立故宮博物院參觀展覽'}\n",
      "\n",
      "\n",
      "input text: 我在新竹的清華大學攻讀資訊工程學位，每天都會接觸到最新的科技和研究。\n",
      "{'人名': '無'}\n",
      "{'電影名': None}\n",
      "{'公司名': None}\n",
      "{'組織機構名稱': '清華大學'}\n",
      "{'地名': '新竹的清華大學'}\n",
      "{'活動名稱': None}\n",
      "\n",
      "\n",
      "input text: 昨晚，我和朋友在北京的烤鴨店品嚐了正宗的北京烤鴨。\n",
      "{'人名': None}\n",
      "{'電影名': None}\n",
      "{'公司名': None}\n",
      "{'組織機構名稱': None}\n",
      "{'地名': '北京'}\n",
      "{'活動名稱': ''}\n",
      "\n",
      "\n",
      "input text: 我正在閱讀一本關於人工智慧的書籍，它由斯坦福大學的安德魯·吳所撰寫。\n"
     ]
    },
    {
     "name": "stderr",
     "output_type": "stream",
     "text": [
      "Retrying langchain.chat_models.openai.acompletion_with_retry.<locals>._completion_with_retry in 1.0 seconds as it raised ServiceUnavailableError: The server is overloaded or not ready yet..\n"
     ]
    },
    {
     "name": "stdout",
     "output_type": "stream",
     "text": [
      "{'人名': '安德魯·吳'}\n",
      "{'電影名': None}\n",
      "{'公司名': '斯坦福大學'}\n",
      "{'組織機構名稱': '斯坦福大學'}\n",
      "{'地名': None}\n",
      "{'活動名稱': None}\n",
      "\n",
      "\n",
      "input text: 最近，我在網上購買了一台蘋果公司的新款筆記型電腦，它的性能非常強大。\n",
      "{'人名': None}\n",
      "{'電影名': None}\n",
      "{'公司名': '蘋果公司'}\n",
      "{'組織機構名稱': '蘋果公司'}\n",
      "{'地名': None}\n",
      "{'活動名稱': None}\n",
      "\n",
      "\n",
      "input text: 在上海的外灘，我看到了壯麗的黃浦江夜景，真是美不勝收。\n",
      "{'人名': None}\n",
      "{'電影名': None}\n",
      "{'公司名': None}\n",
      "{'組織機構名稱': None}\n",
      "{'地名': '上海外灘、黃浦江'}\n",
      "{'活動名稱': None}\n",
      "\n",
      "\n"
     ]
    }
   ],
   "source": [
    "for t in texts:\n",
    "    print(\"input text:\", t)\n",
    "    chains = []\n",
    "    for bot in bots:\n",
    "        chains.append(bot.get_chains([], t) )\n",
    "    res = await generate_concurrently(chains)\n",
    "    for i, r in enumerate(res):\n",
    "        tr = bots[i].output_parser.parse(r)\n",
    "        print(tr)\n",
    "    print()\n",
    "    print()    "
   ]
  },
  {
   "cell_type": "code",
   "execution_count": null,
   "id": "22aa1520",
   "metadata": {},
   "outputs": [],
   "source": []
  }
 ],
 "metadata": {
  "kernelspec": {
   "display_name": "Python 3 (ipykernel)",
   "language": "python",
   "name": "python3"
  },
  "language_info": {
   "codemirror_mode": {
    "name": "ipython",
    "version": 3
   },
   "file_extension": ".py",
   "mimetype": "text/x-python",
   "name": "python",
   "nbconvert_exporter": "python",
   "pygments_lexer": "ipython3",
   "version": "3.10.9"
  }
 },
 "nbformat": 4,
 "nbformat_minor": 5
}

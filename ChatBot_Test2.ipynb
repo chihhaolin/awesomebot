{
 "cells": [
  {
   "cell_type": "code",
   "execution_count": 1,
   "id": "67fea686",
   "metadata": {},
   "outputs": [],
   "source": [
    "%load_ext autoreload\n",
    "%autoreload 2"
   ]
  },
  {
   "cell_type": "code",
   "execution_count": 2,
   "id": "0ce80430",
   "metadata": {},
   "outputs": [],
   "source": [
    "import asyncio\n",
    "import utils\n",
    "from utils import MessageType\n",
    "import config"
   ]
  },
  {
   "cell_type": "code",
   "execution_count": 3,
   "id": "46d774c3",
   "metadata": {},
   "outputs": [],
   "source": [
    "from flow import ChatRouteInJupyter\n",
    "from bot_factory import BotAction, TaskBOT"
   ]
  },
  {
   "cell_type": "code",
   "execution_count": 4,
   "id": "f9ec1f84",
   "metadata": {},
   "outputs": [],
   "source": [
    "async def async_generate(chain):\n",
    "    resp = await chain.arun(dummy=\"dummy\")\n",
    "    #print(resp)\n",
    "    return resp\n",
    "\n",
    "async def generate_concurrently(chains):\n",
    "    tasks = [async_generate(chain) for chain in chains]\n",
    "    res = await asyncio.gather(*tasks)\n",
    "    return res"
   ]
  },
  {
   "cell_type": "code",
   "execution_count": 5,
   "id": "9af2e696",
   "metadata": {},
   "outputs": [],
   "source": [
    "def step(res, cb):    \n",
    "#     print(\"openai results:\", res)\n",
    "#     print()\n",
    "#     print(\"檢查當輪記憶:\", cb.next_message_pair)\n",
    "    print()\n",
    "    ai_result = cb.my_awesome_response_strategy(res)\n",
    "#     print(\"出話策略 results:\", ai_result)        \n",
    "#     print()    \n",
    "    #print(\"檢查memory:\", cb.memory.load_memory_variables({})[config.MEMORY_KEY])\n",
    "    print(\"1. 檢查memory:\", cb.get_messages(N=cb.memory_length))\n",
    "    print()    \n",
    "#     print(\"檢查當輪記憶，必須清空:\", cb.next_message_pair)    \n",
    "    print(\"2. 檢查興趣抽取任務:\", cb.task_collection)\n",
    "    print()\n",
    "    print(\"3. 檢查被banned的追問機器人:\",cb.whatQ_banned_queue)\n",
    "    print()    \n",
    "    print(\"4. 最終出話:\", ai_result)        "
   ]
  },
  {
   "cell_type": "code",
   "execution_count": 6,
   "id": "349c82c4",
   "metadata": {},
   "outputs": [],
   "source": [
    "cb = ChatRouteInJupyter(memory_length = 2, banned_N = 3)"
   ]
  },
  {
   "cell_type": "code",
   "execution_count": 7,
   "id": "b9f9158d",
   "metadata": {},
   "outputs": [
    {
     "name": "stdout",
     "output_type": "stream",
     "text": [
      "\n",
      "1. 檢查memory: [HumanMessage(content='你好', additional_kwargs={}, example=False), AIMessage(content='你好，有什麼我可以幫助你的呢？ 你一般都喜歡幹啥呢？', additional_kwargs={}, example=False)]\n",
      "\n",
      "2. 檢查興趣抽取任務: {'興趣': []}\n",
      "\n",
      "3. 檢查被banned的追問機器人: [None, None, <bot_factory.TaskBOT object at 0x7fd275873f10>]\n",
      "\n",
      "4. 最終出話: 你好，有什麼我可以幫助你的呢？ 你一般都喜歡幹啥呢？\n"
     ]
    }
   ],
   "source": [
    "text = \"你好\"\n",
    "chains = cb.get_step_taskchains(next_text=text)    \n",
    "res = await generate_concurrently(chains)\n",
    "step(res, cb)"
   ]
  },
  {
   "cell_type": "code",
   "execution_count": 8,
   "id": "c1230bc1",
   "metadata": {},
   "outputs": [
    {
     "name": "stdout",
     "output_type": "stream",
     "text": [
      "\n",
      "1. 檢查memory: [HumanMessage(content='你好', additional_kwargs={}, example=False), AIMessage(content='你好，有什麼我可以幫助你的呢？ 你一般都喜歡幹啥呢？', additional_kwargs={}, example=False), HumanMessage(content='我喜歡運動', additional_kwargs={}, example=False), AIMessage(content='運動是個很好的習慣，它不僅可以幫助你保持健康，還可以讓你保持好心情。你平常都喜歡做哪些運動呢？', additional_kwargs={}, example=False)]\n",
      "\n",
      "2. 檢查興趣抽取任務: {'興趣': ['運動']}\n",
      "\n",
      "3. 檢查被banned的追問機器人: [None, <bot_factory.TaskBOT object at 0x7fd275873f10>, None]\n",
      "\n",
      "4. 最終出話: 運動是個很好的習慣，它不僅可以幫助你保持健康，還可以讓你保持好心情。你平常都喜歡做哪些運動呢？\n"
     ]
    }
   ],
   "source": [
    "text = \"我喜歡運動\"\n",
    "chains = cb.get_step_taskchains(next_text=text)    \n",
    "res = await generate_concurrently(chains)\n",
    "step(res, cb)"
   ]
  },
  {
   "cell_type": "code",
   "execution_count": 9,
   "id": "76405988",
   "metadata": {},
   "outputs": [
    {
     "name": "stdout",
     "output_type": "stream",
     "text": [
      "\n",
      "1. 檢查memory: [HumanMessage(content='我喜歡運動', additional_kwargs={}, example=False), AIMessage(content='運動是個很好的習慣，它不僅可以幫助你保持健康，還可以讓你保持好心情。你平常都喜歡做哪些運動呢？', additional_kwargs={}, example=False), HumanMessage(content='我喜歡游泳、爬山', additional_kwargs={}, example=False), AIMessage(content='非常棒的運動選擇！游泳是一項很好的全身運動，可以增強肺功能並幫助你燃燒卡路里。而爬山則可以讓你挑戰獨特的地形和退而求其次的氣氛，讓你挑戰自己，是一種野外運動的佳選。透過運動，不僅可以使你的身體更強壯，也可以使你的心情更加愉快！', additional_kwargs={}, example=False)]\n",
      "\n",
      "2. 檢查興趣抽取任務: {'興趣': ['運動', '游泳、爬山']}\n",
      "\n",
      "3. 檢查被banned的追問機器人: [<bot_factory.TaskBOT object at 0x7fd275873f10>, None, None]\n",
      "\n",
      "4. 最終出話: 非常棒的運動選擇！游泳是一項很好的全身運動，可以增強肺功能並幫助你燃燒卡路里。而爬山則可以讓你挑戰獨特的地形和退而求其次的氣氛，讓你挑戰自己，是一種野外運動的佳選。透過運動，不僅可以使你的身體更強壯，也可以使你的心情更加愉快！\n"
     ]
    }
   ],
   "source": [
    "text = \"我喜歡游泳、爬山\"\n",
    "chains = cb.get_step_taskchains(next_text=text)    \n",
    "res = await generate_concurrently(chains)\n",
    "step(res, cb)"
   ]
  },
  {
   "cell_type": "code",
   "execution_count": 10,
   "id": "f095fd48",
   "metadata": {},
   "outputs": [
    {
     "name": "stderr",
     "output_type": "stream",
     "text": [
      "Retrying langchain.chat_models.openai.acompletion_with_retry.<locals>._completion_with_retry in 1.0 seconds as it raised ServiceUnavailableError: The server is overloaded or not ready yet..\n"
     ]
    },
    {
     "name": "stdout",
     "output_type": "stream",
     "text": [
      "\n",
      "1. 檢查memory: [HumanMessage(content='我喜歡游泳、爬山', additional_kwargs={}, example=False), AIMessage(content='非常棒的運動選擇！游泳是一項很好的全身運動，可以增強肺功能並幫助你燃燒卡路里。而爬山則可以讓你挑戰獨特的地形和退而求其次的氣氛，讓你挑戰自己，是一種野外運動的佳選。透過運動，不僅可以使你的身體更強壯，也可以使你的心情更加愉快！', additional_kwargs={}, example=False), HumanMessage(content='我也喜歡聽音樂', additional_kwargs={}, example=False), AIMessage(content='聽音樂是很好的放鬆方式，可以幫助你紓解壓力，讓你感到放鬆和舒適。你平常都喜歡聽哪種類型的音樂呢？是流行音樂還是古典音樂？', additional_kwargs={}, example=False)]\n",
      "\n",
      "2. 檢查興趣抽取任務: {'興趣': ['運動', '游泳、爬山', '運動、爬山、聽音樂']}\n",
      "\n",
      "3. 檢查被banned的追問機器人: [None, None, None]\n",
      "\n",
      "4. 最終出話: 聽音樂是很好的放鬆方式，可以幫助你紓解壓力，讓你感到放鬆和舒適。你平常都喜歡聽哪種類型的音樂呢？是流行音樂還是古典音樂？\n"
     ]
    }
   ],
   "source": [
    "text = \"我也喜歡聽音樂\"\n",
    "chains = cb.get_step_taskchains(next_text=text)    \n",
    "res = await generate_concurrently(chains)\n",
    "step(res, cb)"
   ]
  },
  {
   "cell_type": "code",
   "execution_count": null,
   "id": "5d54f1f7",
   "metadata": {},
   "outputs": [],
   "source": []
  }
 ],
 "metadata": {
  "kernelspec": {
   "display_name": "Python 3 (ipykernel)",
   "language": "python",
   "name": "python3"
  },
  "language_info": {
   "codemirror_mode": {
    "name": "ipython",
    "version": 3
   },
   "file_extension": ".py",
   "mimetype": "text/x-python",
   "name": "python",
   "nbconvert_exporter": "python",
   "pygments_lexer": "ipython3",
   "version": "3.10.9"
  }
 },
 "nbformat": 4,
 "nbformat_minor": 5
}
